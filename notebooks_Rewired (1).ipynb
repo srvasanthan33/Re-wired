{
  "metadata": {
    "language_info": {
      "codemirror_mode": {
        "name": "python",
        "version": 3
      },
      "file_extension": ".py",
      "mimetype": "text/x-python",
      "name": "python",
      "nbconvert_exporter": "python",
      "pygments_lexer": "ipython3",
      "version": "3.8"
    },
    "kernelspec": {
      "name": "python",
      "display_name": "Python (Pyodide)",
      "language": "python"
    }
  },
  "nbformat_minor": 4,
  "nbformat": 4,
  "cells": [
    {
      "cell_type": "code",
      "source": "import pandas as pd\nfrom sklearn.model_selection import train_test_split\nfrom sklearn.linear_model import LinearRegression\nfrom sklearn.metrics import mean_squared_error, r2_score\nimport numpy as np\n\nprint(\"successful\")",
      "metadata": {
        "trusted": true
      },
      "execution_count": 26,
      "outputs": [
        {
          "name": "stdout",
          "text": "successful\n",
          "output_type": "stream"
        }
      ]
    },
    {
      "cell_type": "code",
      "source": "# Load the dataset\ndata = pd.read_csv('ewasteset2.csv')\n\n",
      "metadata": {
        "trusted": true
      },
      "execution_count": 28,
      "outputs": []
    },
    {
      "cell_type": "code",
      "source": "X = data[['Age', 'Condition', 'RepairPotential', 'RecyclingPotential', 'MarketDemand']]\ny = data['RecycledValue']\n\n# Convert categorical features to numerical using one-hot encoding\nX = pd.get_dummies(X, columns=['Age', 'Condition', 'RepairPotential', 'RecyclingPotential', 'MarketDemand'], drop_first=True)\n\nprint(X)\n\nprint(\"successfully\")\n\n",
      "metadata": {
        "trusted": true
      },
      "execution_count": 30,
      "outputs": [
        {
          "name": "stdout",
          "text": "    Age_10 years  Age_2 years  Age_3 years  Age_4 years  Age_5 years  \\\n0              0            0            0            0            1   \n1              0            0            0            0            0   \n2              0            0            1            0            0   \n3              1            0            0            0            0   \n4              0            1            0            0            0   \n5              0            0            0            1            0   \n6              0            1            0            0            0   \n7              0            0            0            0            0   \n8              0            0            1            0            0   \n9              0            1            0            0            0   \n10             0            0            0            0            0   \n11             0            0            0            0            1   \n12             0            0            0            1            0   \n13             0            1            0            0            0   \n14             0            0            0            0            0   \n15             0            0            1            0            0   \n16             0            1            0            0            0   \n17             0            0            0            0            0   \n18             0            0            0            0            0   \n19             0            1            0            0            0   \n20             0            0            1            0            0   \n21             0            0            0            1            0   \n22             0            0            0            0            0   \n23             0            0            0            0            1   \n24             0            0            0            0            0   \n25             0            0            0            1            0   \n26             0            1            0            0            0   \n27             0            0            1            0            0   \n\n    Age_6 years  Age_8 years  RepairPotential_Yes  MarketDemand_Low  \\\n0             0            0                    1                 0   \n1             0            0                    1                 0   \n2             0            0                    1                 0   \n3             0            0                    0                 1   \n4             0            0                    1                 0   \n5             0            0                    1                 0   \n6             0            0                    1                 0   \n7             0            0                    1                 0   \n8             0            0                    1                 0   \n9             0            0                    1                 0   \n10            0            0                    1                 0   \n11            0            0                    0                 0   \n12            0            0                    0                 0   \n13            0            0                    1                 1   \n14            0            0                    1                 0   \n15            0            0                    1                 0   \n16            0            0                    1                 0   \n17            1            0                    1                 0   \n18            0            1                    0                 1   \n19            0            0                    1                 0   \n20            0            0                    1                 0   \n21            0            0                    1                 0   \n22            0            0                    1                 0   \n23            0            0                    1                 0   \n24            0            0                    1                 0   \n25            0            0                    0                 0   \n26            0            0                    1                 0   \n27            0            0                    1                 0   \n\n    MarketDemand_Medium  \n0                     0  \n1                     0  \n2                     1  \n3                     0  \n4                     1  \n5                     1  \n6                     1  \n7                     0  \n8                     1  \n9                     0  \n10                    0  \n11                    1  \n12                    1  \n13                    0  \n14                    0  \n15                    1  \n16                    0  \n17                    1  \n18                    0  \n19                    0  \n20                    1  \n21                    1  \n22                    0  \n23                    1  \n24                    0  \n25                    1  \n26                    1  \n27                    1  \nsuccessfully\n",
          "output_type": "stream"
        }
      ]
    },
    {
      "cell_type": "code",
      "source": "# Convert categorical features to numerical using one-hot encoding\nX = pd.get_dummies(X, columns=['Condition', 'Repair potential', 'Recycling potential', 'Market demand'], drop_first=True)\n",
      "metadata": {
        "trusted": true
      },
      "execution_count": 19,
      "outputs": [
        {
          "ename": "<class 'KeyError'>",
          "evalue": "\"None of [Index(['Condition', 'Repair potential', 'Recycling potential',\\n       'Market demand'],\\n      dtype='object')] are in the [columns]\"",
          "traceback": [
            "\u001b[0;31m---------------------------------------------------------------------------\u001b[0m",
            "\u001b[0;31mKeyError\u001b[0m                                  Traceback (most recent call last)",
            "Cell \u001b[0;32mIn[19], line 2\u001b[0m\n\u001b[1;32m      1\u001b[0m \u001b[38;5;66;03m# Convert categorical features to numerical using one-hot encoding\u001b[39;00m\n\u001b[0;32m----> 2\u001b[0m X \u001b[38;5;241m=\u001b[39m \u001b[43mpd\u001b[49m\u001b[38;5;241;43m.\u001b[39;49m\u001b[43mget_dummies\u001b[49m\u001b[43m(\u001b[49m\u001b[43mX\u001b[49m\u001b[43m,\u001b[49m\u001b[43m \u001b[49m\u001b[43mcolumns\u001b[49m\u001b[38;5;241;43m=\u001b[39;49m\u001b[43m[\u001b[49m\u001b[38;5;124;43m'\u001b[39;49m\u001b[38;5;124;43mCondition\u001b[39;49m\u001b[38;5;124;43m'\u001b[39;49m\u001b[43m,\u001b[49m\u001b[43m \u001b[49m\u001b[38;5;124;43m'\u001b[39;49m\u001b[38;5;124;43mRepair potential\u001b[39;49m\u001b[38;5;124;43m'\u001b[39;49m\u001b[43m,\u001b[49m\u001b[43m \u001b[49m\u001b[38;5;124;43m'\u001b[39;49m\u001b[38;5;124;43mRecycling potential\u001b[39;49m\u001b[38;5;124;43m'\u001b[39;49m\u001b[43m,\u001b[49m\u001b[43m \u001b[49m\u001b[38;5;124;43m'\u001b[39;49m\u001b[38;5;124;43mMarket demand\u001b[39;49m\u001b[38;5;124;43m'\u001b[39;49m\u001b[43m]\u001b[49m\u001b[43m,\u001b[49m\u001b[43m \u001b[49m\u001b[43mdrop_first\u001b[49m\u001b[38;5;241;43m=\u001b[39;49m\u001b[38;5;28;43;01mTrue\u001b[39;49;00m\u001b[43m)\u001b[49m\n",
            "File \u001b[0;32m/lib/python3.11/site-packages/pandas/core/reshape/encoding.py:146\u001b[0m, in \u001b[0;36mget_dummies\u001b[0;34m(data, prefix, prefix_sep, dummy_na, columns, sparse, drop_first, dtype)\u001b[0m\n\u001b[1;32m    144\u001b[0m     \u001b[38;5;28;01mraise\u001b[39;00m \u001b[38;5;167;01mTypeError\u001b[39;00m(\u001b[38;5;124m\"\u001b[39m\u001b[38;5;124mInput must be a list-like for parameter `columns`\u001b[39m\u001b[38;5;124m\"\u001b[39m)\n\u001b[1;32m    145\u001b[0m \u001b[38;5;28;01melse\u001b[39;00m:\n\u001b[0;32m--> 146\u001b[0m     data_to_encode \u001b[38;5;241m=\u001b[39m \u001b[43mdata\u001b[49m\u001b[43m[\u001b[49m\u001b[43mcolumns\u001b[49m\u001b[43m]\u001b[49m\n\u001b[1;32m    148\u001b[0m \u001b[38;5;66;03m# validate prefixes and separator to avoid silently dropping cols\u001b[39;00m\n\u001b[1;32m    149\u001b[0m \u001b[38;5;28;01mdef\u001b[39;00m \u001b[38;5;21mcheck_len\u001b[39m(item, name):\n",
            "File \u001b[0;32m/lib/python3.11/site-packages/pandas/core/frame.py:3813\u001b[0m, in \u001b[0;36mDataFrame.__getitem__\u001b[0;34m(self, key)\u001b[0m\n\u001b[1;32m   3811\u001b[0m     \u001b[38;5;28;01mif\u001b[39;00m is_iterator(key):\n\u001b[1;32m   3812\u001b[0m         key \u001b[38;5;241m=\u001b[39m \u001b[38;5;28mlist\u001b[39m(key)\n\u001b[0;32m-> 3813\u001b[0m     indexer \u001b[38;5;241m=\u001b[39m \u001b[38;5;28;43mself\u001b[39;49m\u001b[38;5;241;43m.\u001b[39;49m\u001b[43mcolumns\u001b[49m\u001b[38;5;241;43m.\u001b[39;49m\u001b[43m_get_indexer_strict\u001b[49m\u001b[43m(\u001b[49m\u001b[43mkey\u001b[49m\u001b[43m,\u001b[49m\u001b[43m \u001b[49m\u001b[38;5;124;43m\"\u001b[39;49m\u001b[38;5;124;43mcolumns\u001b[39;49m\u001b[38;5;124;43m\"\u001b[39;49m\u001b[43m)\u001b[49m[\u001b[38;5;241m1\u001b[39m]\n\u001b[1;32m   3815\u001b[0m \u001b[38;5;66;03m# take() does not accept boolean indexers\u001b[39;00m\n\u001b[1;32m   3816\u001b[0m \u001b[38;5;28;01mif\u001b[39;00m \u001b[38;5;28mgetattr\u001b[39m(indexer, \u001b[38;5;124m\"\u001b[39m\u001b[38;5;124mdtype\u001b[39m\u001b[38;5;124m\"\u001b[39m, \u001b[38;5;28;01mNone\u001b[39;00m) \u001b[38;5;241m==\u001b[39m \u001b[38;5;28mbool\u001b[39m:\n",
            "File \u001b[0;32m/lib/python3.11/site-packages/pandas/core/indexes/base.py:6070\u001b[0m, in \u001b[0;36mIndex._get_indexer_strict\u001b[0;34m(self, key, axis_name)\u001b[0m\n\u001b[1;32m   6067\u001b[0m \u001b[38;5;28;01melse\u001b[39;00m:\n\u001b[1;32m   6068\u001b[0m     keyarr, indexer, new_indexer \u001b[38;5;241m=\u001b[39m \u001b[38;5;28mself\u001b[39m\u001b[38;5;241m.\u001b[39m_reindex_non_unique(keyarr)\n\u001b[0;32m-> 6070\u001b[0m \u001b[38;5;28;43mself\u001b[39;49m\u001b[38;5;241;43m.\u001b[39;49m\u001b[43m_raise_if_missing\u001b[49m\u001b[43m(\u001b[49m\u001b[43mkeyarr\u001b[49m\u001b[43m,\u001b[49m\u001b[43m \u001b[49m\u001b[43mindexer\u001b[49m\u001b[43m,\u001b[49m\u001b[43m \u001b[49m\u001b[43maxis_name\u001b[49m\u001b[43m)\u001b[49m\n\u001b[1;32m   6072\u001b[0m keyarr \u001b[38;5;241m=\u001b[39m \u001b[38;5;28mself\u001b[39m\u001b[38;5;241m.\u001b[39mtake(indexer)\n\u001b[1;32m   6073\u001b[0m \u001b[38;5;28;01mif\u001b[39;00m \u001b[38;5;28misinstance\u001b[39m(key, Index):\n\u001b[1;32m   6074\u001b[0m     \u001b[38;5;66;03m# GH 42790 - Preserve name from an Index\u001b[39;00m\n",
            "File \u001b[0;32m/lib/python3.11/site-packages/pandas/core/indexes/base.py:6130\u001b[0m, in \u001b[0;36mIndex._raise_if_missing\u001b[0;34m(self, key, indexer, axis_name)\u001b[0m\n\u001b[1;32m   6128\u001b[0m     \u001b[38;5;28;01mif\u001b[39;00m use_interval_msg:\n\u001b[1;32m   6129\u001b[0m         key \u001b[38;5;241m=\u001b[39m \u001b[38;5;28mlist\u001b[39m(key)\n\u001b[0;32m-> 6130\u001b[0m     \u001b[38;5;28;01mraise\u001b[39;00m \u001b[38;5;167;01mKeyError\u001b[39;00m(\u001b[38;5;124mf\u001b[39m\u001b[38;5;124m\"\u001b[39m\u001b[38;5;124mNone of [\u001b[39m\u001b[38;5;132;01m{\u001b[39;00mkey\u001b[38;5;132;01m}\u001b[39;00m\u001b[38;5;124m] are in the [\u001b[39m\u001b[38;5;132;01m{\u001b[39;00maxis_name\u001b[38;5;132;01m}\u001b[39;00m\u001b[38;5;124m]\u001b[39m\u001b[38;5;124m\"\u001b[39m)\n\u001b[1;32m   6132\u001b[0m not_found \u001b[38;5;241m=\u001b[39m \u001b[38;5;28mlist\u001b[39m(ensure_index(key)[missing_mask\u001b[38;5;241m.\u001b[39mnonzero()[\u001b[38;5;241m0\u001b[39m]]\u001b[38;5;241m.\u001b[39munique())\n\u001b[1;32m   6133\u001b[0m \u001b[38;5;28;01mraise\u001b[39;00m \u001b[38;5;167;01mKeyError\u001b[39;00m(\u001b[38;5;124mf\u001b[39m\u001b[38;5;124m\"\u001b[39m\u001b[38;5;132;01m{\u001b[39;00mnot_found\u001b[38;5;132;01m}\u001b[39;00m\u001b[38;5;124m not in index\u001b[39m\u001b[38;5;124m\"\u001b[39m)\n",
            "\u001b[0;31mKeyError\u001b[0m: \"None of [Index(['Condition', 'Repair potential', 'Recycling potential',\\n       'Market demand'],\\n      dtype='object')] are in the [columns]\""
          ],
          "output_type": "error"
        }
      ]
    },
    {
      "cell_type": "code",
      "source": "print(data)",
      "metadata": {
        "trusted": true
      },
      "execution_count": 20,
      "outputs": [
        {
          "name": "stdout",
          "text": "          Item type      Brand                Model       Age Condition  \\\n0          Computer       Dell       Latitude E5470   5 years   Working   \n1        Smartphone      Apple        iPhone 13 Pro    1 year   Working   \n2        Television    Samsung           UN55NU7100   3 years   Working   \n3         Microwave         LG            LMC0771BD  10 years   Working   \n4    Vacuum cleaner      Dyson            V8 Animal   2 years   Working   \n5           Printer         HP  LaserJet Pro M404dn   4 years   Working   \n6           Monitor       Dell    UltraSharp U2720Q   2 years   Working   \n7    Gaming console       Sony        PlayStation 5    1 year   Working   \n8            Camera      Canon        EOS Rebel T7i   3 years   Working   \n9            Laptop     Lenovo   ThinkPad X1 Carbon   2 years   Working   \n10           Tablet    Samsung        Galaxy Tab S7    1 year   Working   \n11     Refrigerator         LG           LFXS26973D   5 years   Working   \n12       Dishwasher      Bosch           SHEM63W55N   4 years   Working   \n13     Coffee maker     Keurig                Elite   2 years   Working   \n14       Headphones       Sony             W1000XM4    1 year   Working   \n15          Blender    Vitamix       E310 Explorian   3 years   Working   \n16       Smartwatch     Garmin   Fenix 6X Pro Solar   2 years   Working   \n17     Refrigerator  Whirlpool           WRS325SDHZ   6 years   Working   \n18        Microwave  Panasonic              NSU696S   8 years   Working   \n19           Laptop         HP         Spectre x360   2 years   Working   \n20  Air conditioner         LG             LW8016ER   3 years   Working   \n21           Camera      Nikon                D3500   4 years   Working   \n22   Gaming console  Microsoft        Xbox Series X    1 year   Working   \n23          Blender      Ninja                BL610   5 years   Working   \n24       Smartwatch      Apple       Watch Series 6    1 year   Working   \n25       Dishwasher         GE         GDT655SGJ0BB   4 years   Working   \n26          Printer      Epson        EcoTank E4760   2 years   Working   \n27          Toaster  Cuisinart              CP180P1   3 years   Working   \n\n   Completeness Data security Repair potential Recycling potential  \\\n0      Complete           Yes              Yes                 Yes   \n1      Complete           Yes              Yes                 Yes   \n2      Complete           Yes              Yes                 Yes   \n3      Complete            No               No                 Yes   \n4      Complete            No              Yes                 Yes   \n5      Complete            No              Yes                 Yes   \n6      Complete           Yes              Yes                 Yes   \n7      Complete           Yes              Yes                 Yes   \n8      Complete           Yes              Yes                 Yes   \n9      Complete           Yes              Yes                 Yes   \n10     Complete           Yes              Yes                 Yes   \n11     Complete           Yes               No                 Yes   \n12     Complete           Yes               No                 Yes   \n13     Complete            No              Yes                 Yes   \n14     Complete           Yes              Yes                 Yes   \n15     Complete            No              Yes                 Yes   \n16     Complete           Yes              Yes                 Yes   \n17     Complete           Yes              Yes                 Yes   \n18     Complete            No               No                 Yes   \n19     Complete           Yes              Yes                 Yes   \n20     Complete           Yes              Yes                 Yes   \n21     Complete           Yes              Yes                 Yes   \n22     Complete           Yes              Yes                 Yes   \n23     Complete            No              Yes                 Yes   \n24     Complete           Yes              Yes                 Yes   \n25     Complete           Yes               No                 Yes   \n26     Complete            No              Yes                 Yes   \n27     Complete            No              Yes                 Yes   \n\n   Market demand Geographic location  Recycled value (INR)  Actual price (INR)  \n0           High               India                  8000               90000  \n1           High               India                  6000               68400  \n2         Medium               India                  4000               39600  \n3            Low               India                   500                5760  \n4         Medium               India                  2000               19440  \n5         Medium               India                  1000               11520  \n6         Medium               India                  2000               23040  \n7           High               India                  2500               30240  \n8         Medium               India                  2200               26640  \n9           High               India                  6000               68400  \n10          High               India                  4000               45720  \n11        Medium               India                  7000               75600  \n12        Medium               India                  3500               39600  \n13           Low               India                   500                7560  \n14          High               India                  2000               19440  \n15        Medium               India                  1000               11520  \n16          High               India                  2000               23040  \n17        Medium               India                  4000               45720  \n18           Low               India                   450                5400  \n19          High               India                  7000               75600  \n20        Medium               India                  1400               15120  \n21        Medium               India                  1800               19440  \n22          High               India                  3200               34080  \n23        Medium               India                   360                3888  \n24          High               India                  2200               26640  \n25        Medium               India                  2200               26640  \n26        Medium               India                  1400               15120  \n27        Medium               India                   280                3168  \n",
          "output_type": "stream"
        }
      ]
    },
    {
      "cell_type": "code",
      "source": "print(\"start\")\nprint(data[\"Completeness\"])\n",
      "metadata": {
        "trusted": true
      },
      "execution_count": 25,
      "outputs": [
        {
          "name": "stdout",
          "text": "start\n0     Complete\n1     Complete\n2     Complete\n3     Complete\n4     Complete\n5     Complete\n6     Complete\n7     Complete\n8     Complete\n9     Complete\n10    Complete\n11    Complete\n12    Complete\n13    Complete\n14    Complete\n15    Complete\n16    Complete\n17    Complete\n18    Complete\n19    Complete\n20    Complete\n21    Complete\n22    Complete\n23    Complete\n24    Complete\n25    Complete\n26    Complete\n27    Complete\nName: Completeness, dtype: object\n",
          "output_type": "stream"
        }
      ]
    },
    {
      "cell_type": "code",
      "source": "",
      "metadata": {},
      "execution_count": null,
      "outputs": []
    }
  ]
}